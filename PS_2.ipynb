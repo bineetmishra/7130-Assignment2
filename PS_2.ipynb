{
 "cells": [
  {
   "cell_type": "code",
   "execution_count": 1,
   "metadata": {},
   "outputs": [
    {
     "name": "stdout",
     "output_type": "stream",
     "text": [
      "The root of f(x) is at [1.9704, 1.61656].\n"
     ]
    }
   ],
   "source": [
    "# Hardcoding\n",
    "function co_f(q)\n",
    "    f1 = (q[1]+q[2])^(-1/1.6)-(1/1.6)*(q[1]+q[2])^(-1/1.6-1)*q[1]-.15q[1]\n",
    "    f2 = (q[1]+q[2])^(-1/1.6)-(1/1.6)*(q[1]+q[2])^(-1/1.6-1)*q[2]-.2*q[2]\n",
    "    F=[f1;f2]\n",
    "    return F  \n",
    "end\n",
    "\n",
    "function ja_co_f(q)\n",
    "    j11 = -1/1.6*(q[1]+q[2])^(-1/1.6-1)+(1/1.6)*(1/1.6+1)*(q[1]+q[2])^(-1/1.6-2)*q[1]-1/1.6*(q[1]+q[2])^(-1/1.6-1)-.15\n",
    "    j12 = -1/1.6*(q[1]+q[2])^(-1/1.6-2)+(1/1.6)*(1/1.6+1)*(q[1]+q[2])^(-1/1.6-2)*q[1]\n",
    "    j21 = -1/1.6*(q[1]+q[2])^(-1/1.6-2)+(1/1.6)*(1/1.6+1)*(q[1]+q[2])^(-1/1.6-2)*q[2]\n",
    "    j22 = -1/1.6*(q[1]+q[2])^(-1/1.6-2)+(1/1.6)*(1/1.6+1)*(q[1]+q[2])^(-1/1.6-2)*q[2]-1/1.6*(q[1]+q[2])^(-1/1.6-1)-.2\n",
    "    J=[j11 j12; j21 j22]\n",
    "    return J\n",
    "end\n",
    "\n",
    "#function cournot_newton(eta, c1, c2, initial_guess, tolerance)\n",
    "function cournot_newton1(initial_guess)\n",
    "    diff = [Inf;Inf]     # Initialize problem\n",
    "    tol = [1e-5;1e-5]\n",
    "    x_old = initial_guess\n",
    "    x = [1e10;1e10]\n",
    "    #F = [1e10;1e10]\n",
    "    #J = [1e10;1e10]\n",
    "    while abs.(diff) > tol\n",
    "        x = x_old - ja_co_f(x_old)\\co_f(x_old); # Root of linear approximation\n",
    "        diff = x - x_old;\n",
    "        x_old = x;\n",
    "    end\n",
    "    println(\"The root of f(x) is at $x.\")\n",
    "end;\n",
    "initial_guess=[1;1];\n",
    "cournot_newton1(initial_guess)"
   ]
  },
  {
   "cell_type": "code",
   "execution_count": 2,
   "metadata": {},
   "outputs": [
    {
     "name": "stdout",
     "output_type": "stream",
     "text": [
      "The optimal quantity for firm 1 is at 1.9703987724998746 and for firm 2 is at 1.6165507539241593.\n"
     ]
    }
   ],
   "source": [
    "#=\n",
    "function eval_f(eta,c1,c2,q)\n",
    "Inputs:\n",
    "eta: parameter of inverse demand function\n",
    "c1:  parameter of cost function for firm 1\n",
    "c2:  parameter of cost function for firm 2\n",
    "q:   quantity vector\n",
    "Ouput:\n",
    "F:  foc condition\n",
    "=#\n",
    "function eval_f(eta,c1,c2,q)\n",
    "    f1 = (q[1]+q[2])^(-1/eta)-(1/eta)*(q[1]+q[2])^(-1/eta-1)*q[1]-c1*q[1] # FOC of firm 1\n",
    "    f2 = (q[1]+q[2])^(-1/eta)-(1/eta)*(q[1]+q[2])^(-1/eta-1)*q[2]-c2*q[2] # FOC of firm 2\n",
    "    F  = [f1;f2] # FOC array\n",
    "    return F # return FOC \n",
    "end\n",
    "#=\n",
    "function eval_f_derivative(eta,c1,c2,q)\n",
    "Inputs:\n",
    "eta: parameter of inverse demand function\n",
    "c1:  parameter of cost function for firm 1\n",
    "c2:  parameter of cost function for firm 2\n",
    "q:   quantity vector\n",
    "Ouput:\n",
    "J:  derivative of foc condition\n",
    "=#\n",
    "function eval_f_derivative(eta,c1,c2,q)\n",
    "    j11 = (-1/eta)*(q[1]+q[2])^(-1/eta-1)+(1/eta)*(1/eta+1)*(q[1]+q[2])^(-1/eta-2)*q[1]-(1/eta)*(q[1]+q[2])^(-1/eta-1)-c1 # derivative of foc of firm 1 wrt to q1 \n",
    "    j12 = (-1/eta)*(q[1]+q[2])^(-1/eta-1)+(1/eta)*(1/eta+1)*(q[1]+q[2])^(-1/eta-2)*q[1] # derivative of foc of firm 1 wrt to q2\n",
    "    j21 = (-1/eta)*(q[1]+q[2])^(-1/eta-1)+(1/eta)*(1/eta+1)*(q[1]+q[2])^(-1/eta-2)*q[2] # derivative of foc of firm 2 wrt to q1\n",
    "    j22 = (-1/eta)*(q[1]+q[2])^(-1/eta-1)+(1/eta)*(1/eta+1)*(q[1]+q[2])^(-1/eta-2)*q[2]-(1/eta)*(q[1]+q[2])^(-1/eta-1)-c2 # derivative of foc of firm 2 wrt to q2\n",
    "    J   = [j11 j12; j21 j22] # FOC derivative array\n",
    "    return J # return derivative of foc condition\n",
    "end\n",
    "\n",
    "#=\n",
    "function cournot_newton(eta,c1,c2,initial_guess,tolerance)\n",
    "Inputs:\n",
    "eta: parameter of inverse demand function\n",
    "c1:  parameter of cost function for firm 1\n",
    "c2:  parameter of cost function for firm 2\n",
    "initial_guess: initial value of quantity\n",
    "tolerance: tolerance value for convergence\n",
    "Ouput:\n",
    "q: optimal quantity\n",
    "=#\n",
    "function cournot_newton(eta,c1,c2,initial_guess,tolerance)\n",
    "    diff  = [Inf;Inf]; # Initialize difference\n",
    "    q_old = initial_guess; # Assign old quantity to initial guess\n",
    "    q     = [1e10;1e10]; # Initialize optimal quantity\n",
    "    while abs.(diff) > tolerance # Run until convergence within the tolerance value\n",
    "        q     = q_old - eval_f_derivative(eta,c1,c2,q_old)\\eval_f(eta,c1,c2,q_old); # New quantity\n",
    "        diff  = q - q_old; # Calcuate the difference between new quantity and old quantity\n",
    "        q_old = q; # Update the old quantity to new quantity\n",
    "    end\n",
    "    return q # Optimal quantity\n",
    "end;\n",
    "\n",
    "# Parameters\n",
    "eta=1.6; # parameter of inverse demand function\n",
    "c1=.15;  # parameter of cost function for firm 1\n",
    "c2=0.2;  # parameter of cost function for firm 2\n",
    "initial_guess=[1.0;1.0]; # initial value of quantity\n",
    "tolerance = [1e-5;1e-5]; # tolerance value for convergence\n",
    "q_opt=cournot_newton(eta,c1,c2,initial_guess,tolerance); # function call\n",
    "q_opt_1=q_opt[1]; # optimal quantity for firm 1\n",
    "q_opt_2=q_opt[2]; # optimal quantity for firm 2\n",
    "println(\"The optimal quantity for firm 1 is at $q_opt_1 and for firm 2 is at $q_opt_2.\")"
   ]
  },
  {
   "cell_type": "code",
   "execution_count": null,
   "metadata": {},
   "outputs": [],
   "source": []
  }
 ],
 "metadata": {
  "kernelspec": {
   "display_name": "Julia 1.1.0",
   "language": "julia",
   "name": "julia-1.1"
  },
  "language_info": {
   "file_extension": ".jl",
   "mimetype": "application/julia",
   "name": "julia",
   "version": "1.1.0"
  }
 },
 "nbformat": 4,
 "nbformat_minor": 2
}
